{
  "cells": [
    {
      "metadata": {
        "trusted": true
      },
      "cell_type": "code",
      "source": "#Installing the dependencies\nimport pandas as pd\nimport numpy as np\nfrom sklearn.linear_model import LinearRegression #ML dependency that contains lots of ML libraries.\nfrom sklearn.svm import SVR #SupportVectorRegressor\nimport matplotlib.pyplot as plt",
      "execution_count": 1,
      "outputs": [
        {
          "output_type": "stream",
          "text": "/home/nbuser/anaconda3_501/lib/python3.6/site-packages/matplotlib/font_manager.py:229: UserWarning: Matplotlib is building the font cache using fc-list. This may take a moment.\n  'Matplotlib is building the font cache using fc-list. '\n",
          "name": "stderr"
        }
      ]
    },
    {
      "metadata": {
        "trusted": true
      },
      "cell_type": "code",
      "source": "#Load the data\n!ls ~/library\n\ndf =pd.read_csv(\"~/library/AAPL1.csv\")\ndf.head(7)",
      "execution_count": 2,
      "outputs": [
        {
          "output_type": "stream",
          "text": "AAPL1.csv  README.md  Regression_Stock.ipynb\r\n",
          "name": "stdout"
        },
        {
          "output_type": "execute_result",
          "execution_count": 2,
          "data": {
            "text/html": "<div>\n<style scoped>\n    .dataframe tbody tr th:only-of-type {\n        vertical-align: middle;\n    }\n\n    .dataframe tbody tr th {\n        vertical-align: top;\n    }\n\n    .dataframe thead th {\n        text-align: right;\n    }\n</style>\n<table border=\"1\" class=\"dataframe\">\n  <thead>\n    <tr style=\"text-align: right;\">\n      <th></th>\n      <th>Date</th>\n      <th>Open</th>\n      <th>High</th>\n      <th>Low</th>\n      <th>Close</th>\n      <th>Adj Close</th>\n      <th>Volume</th>\n    </tr>\n  </thead>\n  <tbody>\n    <tr>\n      <th>0</th>\n      <td>2020-03-10</td>\n      <td>277.140015</td>\n      <td>286.440002</td>\n      <td>269.369995</td>\n      <td>285.339996</td>\n      <td>285.339996</td>\n      <td>71322500</td>\n    </tr>\n    <tr>\n      <th>1</th>\n      <td>2020-03-11</td>\n      <td>277.390015</td>\n      <td>281.220001</td>\n      <td>271.859985</td>\n      <td>275.429993</td>\n      <td>275.429993</td>\n      <td>63899700</td>\n    </tr>\n    <tr>\n      <th>2</th>\n      <td>2020-03-12</td>\n      <td>255.940002</td>\n      <td>270.000000</td>\n      <td>248.000000</td>\n      <td>248.229996</td>\n      <td>248.229996</td>\n      <td>104618500</td>\n    </tr>\n    <tr>\n      <th>3</th>\n      <td>2020-03-13</td>\n      <td>264.890015</td>\n      <td>279.920013</td>\n      <td>252.949997</td>\n      <td>277.970001</td>\n      <td>277.970001</td>\n      <td>92683000</td>\n    </tr>\n    <tr>\n      <th>4</th>\n      <td>2020-03-16</td>\n      <td>241.949997</td>\n      <td>259.079987</td>\n      <td>240.000000</td>\n      <td>242.210007</td>\n      <td>242.210007</td>\n      <td>80605900</td>\n    </tr>\n    <tr>\n      <th>5</th>\n      <td>2020-03-17</td>\n      <td>247.509995</td>\n      <td>257.609985</td>\n      <td>238.399994</td>\n      <td>252.860001</td>\n      <td>252.860001</td>\n      <td>81014000</td>\n    </tr>\n    <tr>\n      <th>6</th>\n      <td>2020-03-18</td>\n      <td>239.770004</td>\n      <td>250.000000</td>\n      <td>237.119995</td>\n      <td>246.669998</td>\n      <td>246.669998</td>\n      <td>75058400</td>\n    </tr>\n  </tbody>\n</table>\n</div>",
            "text/plain": "         Date        Open        High         Low       Close   Adj Close  \\\n0  2020-03-10  277.140015  286.440002  269.369995  285.339996  285.339996   \n1  2020-03-11  277.390015  281.220001  271.859985  275.429993  275.429993   \n2  2020-03-12  255.940002  270.000000  248.000000  248.229996  248.229996   \n3  2020-03-13  264.890015  279.920013  252.949997  277.970001  277.970001   \n4  2020-03-16  241.949997  259.079987  240.000000  242.210007  242.210007   \n5  2020-03-17  247.509995  257.609985  238.399994  252.860001  252.860001   \n6  2020-03-18  239.770004  250.000000  237.119995  246.669998  246.669998   \n\n      Volume  \n0   71322500  \n1   63899700  \n2  104618500  \n3   92683000  \n4   80605900  \n5   81014000  \n6   75058400  "
          },
          "metadata": {}
        }
      ]
    },
    {
      "metadata": {
        "trusted": true
      },
      "cell_type": "code",
      "source": "#Create the lists X and Y data sets\ndates = []\nprices = []",
      "execution_count": 3,
      "outputs": []
    },
    {
      "metadata": {
        "trusted": true
      },
      "cell_type": "code",
      "source": "#Get the number of rows and columns in the data set\ndf.shape",
      "execution_count": 4,
      "outputs": [
        {
          "output_type": "execute_result",
          "execution_count": 4,
          "data": {
            "text/plain": "(23, 7)"
          },
          "metadata": {}
        }
      ]
    },
    {
      "metadata": {
        "trusted": true
      },
      "cell_type": "code",
      "source": "#Displaying Last row\ndf.tail(1)",
      "execution_count": 5,
      "outputs": [
        {
          "output_type": "execute_result",
          "execution_count": 5,
          "data": {
            "text/html": "<div>\n<style scoped>\n    .dataframe tbody tr th:only-of-type {\n        vertical-align: middle;\n    }\n\n    .dataframe tbody tr th {\n        vertical-align: top;\n    }\n\n    .dataframe thead th {\n        text-align: right;\n    }\n</style>\n<table border=\"1\" class=\"dataframe\">\n  <thead>\n    <tr style=\"text-align: right;\">\n      <th></th>\n      <th>Date</th>\n      <th>Open</th>\n      <th>High</th>\n      <th>Low</th>\n      <th>Close</th>\n      <th>Adj Close</th>\n      <th>Volume</th>\n    </tr>\n  </thead>\n  <tbody>\n    <tr>\n      <th>22</th>\n      <td>2020-04-09</td>\n      <td>268.700012</td>\n      <td>270.070007</td>\n      <td>264.700012</td>\n      <td>267.98999</td>\n      <td>267.98999</td>\n      <td>40529100</td>\n    </tr>\n  </tbody>\n</table>\n</div>",
            "text/plain": "          Date        Open        High         Low      Close  Adj Close  \\\n22  2020-04-09  268.700012  270.070007  264.700012  267.98999  267.98999   \n\n      Volume  \n22  40529100  "
          },
          "metadata": {}
        }
      ]
    },
    {
      "metadata": {
        "trusted": true
      },
      "cell_type": "code",
      "source": "df = df.head(len(df)-1)\ndf",
      "execution_count": 6,
      "outputs": [
        {
          "output_type": "execute_result",
          "execution_count": 6,
          "data": {
            "text/html": "<div>\n<style scoped>\n    .dataframe tbody tr th:only-of-type {\n        vertical-align: middle;\n    }\n\n    .dataframe tbody tr th {\n        vertical-align: top;\n    }\n\n    .dataframe thead th {\n        text-align: right;\n    }\n</style>\n<table border=\"1\" class=\"dataframe\">\n  <thead>\n    <tr style=\"text-align: right;\">\n      <th></th>\n      <th>Date</th>\n      <th>Open</th>\n      <th>High</th>\n      <th>Low</th>\n      <th>Close</th>\n      <th>Adj Close</th>\n      <th>Volume</th>\n    </tr>\n  </thead>\n  <tbody>\n    <tr>\n      <th>0</th>\n      <td>2020-03-10</td>\n      <td>277.140015</td>\n      <td>286.440002</td>\n      <td>269.369995</td>\n      <td>285.339996</td>\n      <td>285.339996</td>\n      <td>71322500</td>\n    </tr>\n    <tr>\n      <th>1</th>\n      <td>2020-03-11</td>\n      <td>277.390015</td>\n      <td>281.220001</td>\n      <td>271.859985</td>\n      <td>275.429993</td>\n      <td>275.429993</td>\n      <td>63899700</td>\n    </tr>\n    <tr>\n      <th>2</th>\n      <td>2020-03-12</td>\n      <td>255.940002</td>\n      <td>270.000000</td>\n      <td>248.000000</td>\n      <td>248.229996</td>\n      <td>248.229996</td>\n      <td>104618500</td>\n    </tr>\n    <tr>\n      <th>3</th>\n      <td>2020-03-13</td>\n      <td>264.890015</td>\n      <td>279.920013</td>\n      <td>252.949997</td>\n      <td>277.970001</td>\n      <td>277.970001</td>\n      <td>92683000</td>\n    </tr>\n    <tr>\n      <th>4</th>\n      <td>2020-03-16</td>\n      <td>241.949997</td>\n      <td>259.079987</td>\n      <td>240.000000</td>\n      <td>242.210007</td>\n      <td>242.210007</td>\n      <td>80605900</td>\n    </tr>\n    <tr>\n      <th>5</th>\n      <td>2020-03-17</td>\n      <td>247.509995</td>\n      <td>257.609985</td>\n      <td>238.399994</td>\n      <td>252.860001</td>\n      <td>252.860001</td>\n      <td>81014000</td>\n    </tr>\n    <tr>\n      <th>6</th>\n      <td>2020-03-18</td>\n      <td>239.770004</td>\n      <td>250.000000</td>\n      <td>237.119995</td>\n      <td>246.669998</td>\n      <td>246.669998</td>\n      <td>75058400</td>\n    </tr>\n    <tr>\n      <th>7</th>\n      <td>2020-03-19</td>\n      <td>247.389999</td>\n      <td>252.839996</td>\n      <td>242.610001</td>\n      <td>244.779999</td>\n      <td>244.779999</td>\n      <td>67964300</td>\n    </tr>\n    <tr>\n      <th>8</th>\n      <td>2020-03-20</td>\n      <td>247.179993</td>\n      <td>251.830002</td>\n      <td>228.000000</td>\n      <td>229.240005</td>\n      <td>229.240005</td>\n      <td>100423300</td>\n    </tr>\n    <tr>\n      <th>9</th>\n      <td>2020-03-23</td>\n      <td>228.080002</td>\n      <td>228.500000</td>\n      <td>212.610001</td>\n      <td>224.369995</td>\n      <td>224.369995</td>\n      <td>84188200</td>\n    </tr>\n    <tr>\n      <th>10</th>\n      <td>2020-03-24</td>\n      <td>236.360001</td>\n      <td>247.690002</td>\n      <td>234.300003</td>\n      <td>246.880005</td>\n      <td>246.880005</td>\n      <td>71882800</td>\n    </tr>\n    <tr>\n      <th>11</th>\n      <td>2020-03-25</td>\n      <td>250.750000</td>\n      <td>258.250000</td>\n      <td>244.300003</td>\n      <td>245.520004</td>\n      <td>245.520004</td>\n      <td>75900500</td>\n    </tr>\n    <tr>\n      <th>12</th>\n      <td>2020-03-26</td>\n      <td>246.520004</td>\n      <td>258.679993</td>\n      <td>246.360001</td>\n      <td>258.440002</td>\n      <td>258.440002</td>\n      <td>63021800</td>\n    </tr>\n    <tr>\n      <th>13</th>\n      <td>2020-03-27</td>\n      <td>252.750000</td>\n      <td>255.869995</td>\n      <td>247.050003</td>\n      <td>247.740005</td>\n      <td>247.740005</td>\n      <td>51054200</td>\n    </tr>\n    <tr>\n      <th>14</th>\n      <td>2020-03-30</td>\n      <td>250.740005</td>\n      <td>255.520004</td>\n      <td>249.399994</td>\n      <td>254.809998</td>\n      <td>254.809998</td>\n      <td>41994100</td>\n    </tr>\n    <tr>\n      <th>15</th>\n      <td>2020-03-31</td>\n      <td>255.600006</td>\n      <td>262.489990</td>\n      <td>252.000000</td>\n      <td>254.289993</td>\n      <td>254.289993</td>\n      <td>49250500</td>\n    </tr>\n    <tr>\n      <th>16</th>\n      <td>2020-04-01</td>\n      <td>246.500000</td>\n      <td>248.720001</td>\n      <td>239.130005</td>\n      <td>240.910004</td>\n      <td>240.910004</td>\n      <td>44054600</td>\n    </tr>\n    <tr>\n      <th>17</th>\n      <td>2020-04-02</td>\n      <td>240.339996</td>\n      <td>245.149994</td>\n      <td>236.899994</td>\n      <td>244.929993</td>\n      <td>244.929993</td>\n      <td>41483500</td>\n    </tr>\n    <tr>\n      <th>18</th>\n      <td>2020-04-03</td>\n      <td>242.800003</td>\n      <td>245.699997</td>\n      <td>238.970001</td>\n      <td>241.410004</td>\n      <td>241.410004</td>\n      <td>32470000</td>\n    </tr>\n    <tr>\n      <th>19</th>\n      <td>2020-04-06</td>\n      <td>250.899994</td>\n      <td>263.109985</td>\n      <td>249.380005</td>\n      <td>262.470001</td>\n      <td>262.470001</td>\n      <td>50455100</td>\n    </tr>\n    <tr>\n      <th>20</th>\n      <td>2020-04-07</td>\n      <td>270.799988</td>\n      <td>271.700012</td>\n      <td>259.000000</td>\n      <td>259.429993</td>\n      <td>259.429993</td>\n      <td>50721800</td>\n    </tr>\n    <tr>\n      <th>21</th>\n      <td>2020-04-08</td>\n      <td>262.739990</td>\n      <td>267.369995</td>\n      <td>261.230011</td>\n      <td>266.070007</td>\n      <td>266.070007</td>\n      <td>42223800</td>\n    </tr>\n  </tbody>\n</table>\n</div>",
            "text/plain": "          Date        Open        High         Low       Close   Adj Close  \\\n0   2020-03-10  277.140015  286.440002  269.369995  285.339996  285.339996   \n1   2020-03-11  277.390015  281.220001  271.859985  275.429993  275.429993   \n2   2020-03-12  255.940002  270.000000  248.000000  248.229996  248.229996   \n3   2020-03-13  264.890015  279.920013  252.949997  277.970001  277.970001   \n4   2020-03-16  241.949997  259.079987  240.000000  242.210007  242.210007   \n5   2020-03-17  247.509995  257.609985  238.399994  252.860001  252.860001   \n6   2020-03-18  239.770004  250.000000  237.119995  246.669998  246.669998   \n7   2020-03-19  247.389999  252.839996  242.610001  244.779999  244.779999   \n8   2020-03-20  247.179993  251.830002  228.000000  229.240005  229.240005   \n9   2020-03-23  228.080002  228.500000  212.610001  224.369995  224.369995   \n10  2020-03-24  236.360001  247.690002  234.300003  246.880005  246.880005   \n11  2020-03-25  250.750000  258.250000  244.300003  245.520004  245.520004   \n12  2020-03-26  246.520004  258.679993  246.360001  258.440002  258.440002   \n13  2020-03-27  252.750000  255.869995  247.050003  247.740005  247.740005   \n14  2020-03-30  250.740005  255.520004  249.399994  254.809998  254.809998   \n15  2020-03-31  255.600006  262.489990  252.000000  254.289993  254.289993   \n16  2020-04-01  246.500000  248.720001  239.130005  240.910004  240.910004   \n17  2020-04-02  240.339996  245.149994  236.899994  244.929993  244.929993   \n18  2020-04-03  242.800003  245.699997  238.970001  241.410004  241.410004   \n19  2020-04-06  250.899994  263.109985  249.380005  262.470001  262.470001   \n20  2020-04-07  270.799988  271.700012  259.000000  259.429993  259.429993   \n21  2020-04-08  262.739990  267.369995  261.230011  266.070007  266.070007   \n\n       Volume  \n0    71322500  \n1    63899700  \n2   104618500  \n3    92683000  \n4    80605900  \n5    81014000  \n6    75058400  \n7    67964300  \n8   100423300  \n9    84188200  \n10   71882800  \n11   75900500  \n12   63021800  \n13   51054200  \n14   41994100  \n15   49250500  \n16   44054600  \n17   41483500  \n18   32470000  \n19   50455100  \n20   50721800  \n21   42223800  "
          },
          "metadata": {}
        }
      ]
    },
    {
      "metadata": {
        "trusted": true
      },
      "cell_type": "code",
      "source": "#To check whether the last row is omitted or not\ndf.shape",
      "execution_count": 7,
      "outputs": [
        {
          "output_type": "execute_result",
          "execution_count": 7,
          "data": {
            "text/plain": "(22, 7)"
          },
          "metadata": {}
        }
      ]
    },
    {
      "metadata": {
        "trusted": true
      },
      "cell_type": "code",
      "source": "#Get all of the rows from the Date Column\ndf_dates = df.loc[:, 'Date']\n#Get all of the rows from the Open Column\ndf_open = df.loc[:, 'Open']",
      "execution_count": 8,
      "outputs": []
    },
    {
      "metadata": {
        "trusted": true
      },
      "cell_type": "code",
      "source": "#Create the independent data set X\nfor date in df_dates:\n  dates.append( [int(date.split('-')[2])])\n  \n#Create the dependent data se 'y'\nfor open_price in df_open:\n  prices.append(float(open_price))",
      "execution_count": 9,
      "outputs": []
    },
    {
      "metadata": {
        "trusted": true
      },
      "cell_type": "code",
      "source": "#Printing all the dates in the updated date list\nprint(df_dates)",
      "execution_count": 10,
      "outputs": [
        {
          "output_type": "stream",
          "text": "0     2020-03-10\n1     2020-03-11\n2     2020-03-12\n3     2020-03-13\n4     2020-03-16\n5     2020-03-17\n6     2020-03-18\n7     2020-03-19\n8     2020-03-20\n9     2020-03-23\n10    2020-03-24\n11    2020-03-25\n12    2020-03-26\n13    2020-03-27\n14    2020-03-30\n15    2020-03-31\n16    2020-04-01\n17    2020-04-02\n18    2020-04-03\n19    2020-04-06\n20    2020-04-07\n21    2020-04-08\nName: Date, dtype: object\n",
          "name": "stdout"
        }
      ]
    },
    {
      "metadata": {
        "trusted": true
      },
      "cell_type": "code",
      "source": "#Create the independent data set X\nfor date in df_dates:\n  dates.append( [int(date.split('-')[2])])\n  \n#Create the dependent data se 'y'\nfor open_price in df_open:\n  prices.append(float(open_price))",
      "execution_count": 11,
      "outputs": []
    },
    {
      "metadata": {
        "trusted": true
      },
      "cell_type": "code",
      "source": "print(dates)",
      "execution_count": 12,
      "outputs": [
        {
          "output_type": "stream",
          "text": "[[10], [11], [12], [13], [16], [17], [18], [19], [20], [23], [24], [25], [26], [27], [30], [31], [1], [2], [3], [6], [7], [8], [10], [11], [12], [13], [16], [17], [18], [19], [20], [23], [24], [25], [26], [27], [30], [31], [1], [2], [3], [6], [7], [8]]\n",
          "name": "stdout"
        }
      ]
    },
    {
      "metadata": {
        "trusted": true
      },
      "cell_type": "code",
      "source": "def predict_prices(dates, prices, x):\n  \n  #Creaing the 3 SVR models\n  svr_lin = SVR(kernel='linear', C= 1e3)\n  svr_poly= SVR(kernel='poly', C=1e3, degree=2)\n  svr_rbf = SVR(kernel='rbf', C=1e3, gamma=0.1)\n  \n  #Training the SVR models \n  svr_lin.fit(dates,prices)\n  svr_poly.fit(dates,prices)\n  svr_rbf.fit(dates,prices)\n  \n  #Creating the Linear Regression model\n  lin_reg = LinearRegression()\n  #Training the Linear Regression model\n  lin_reg.fit(dates,prices)\n  \n  #Plot the models on a graph to see which has the best fit\n  plt.scatter(dates, prices, color='black', label='Data')\n  plt.plot(dates, svr_rbf.predict(dates), color='red', label='SVR RBF')\n  plt.plot(dates, svr_poly.predict(dates), color='blue', label='SVR Poly')\n  plt.plot(dates, svr_lin.predict(dates), color='green', label='SVR Linear')\n  plt.plot(dates, lin_reg.predict(dates), color='orange', label='Linear Reg')\n  plt.xlabel('Days')\n  plt.ylabel('Price')\n  plt.title('Regression')\n  plt.legend()\n  plt.show()\n  \n  return svr_rbf.predict(x)[0], svr_lin.predict(x)[0],svr_poly.predict(x)[0],lin_reg.predict(x)[0]",
      "execution_count": 13,
      "outputs": []
    },
    {
      "metadata": {
        "trusted": true
      },
      "cell_type": "code",
      "source": "#Predict the price of Apple on 09 April\npredicted_price = predict_prices(dates, prices, [[9]])\nprint(predicted_price)",
      "execution_count": 14,
      "outputs": [
        {
          "output_type": "stream",
          "text": "/home/nbuser/anaconda3_501/lib/python3.6/site-packages/sklearn/svm/base.py:196: FutureWarning: The default value of gamma will change from 'auto' to 'scale' in version 0.22 to account better for unscaled features. Set gamma explicitly to 'auto' or 'scale' to avoid this warning.\n  \"avoid this warning.\", FutureWarning)\n",
          "name": "stderr"
        },
        {
          "output_type": "display_data",
          "data": {
            "image/png": "[encoded data removed]",
            "text/plain": "<Figure size 432x288 with 1 Axes>"
          },
          "metadata": {
            "needs_background": "light"
          }
        },
        {
          "output_type": "stream",
          "text": "(269.33979828559785, 247.7144841379676, 246.95951102141777, 253.80782867301866)\n",
          "name": "stdout"
        }
      ]
    },
    {
      "metadata": {
        "trusted": true
      },
      "cell_type": "code",
      "source": "",
      "execution_count": null,
      "outputs": []
    }
  ],
  "metadata": {
    "kernelspec": {
      "name": "python36",
      "display_name": "Python 3.6",
      "language": "python"
    },
    "language_info": {
      "mimetype": "text/x-python",
      "nbconvert_exporter": "python",
      "name": "python",
      "pygments_lexer": "ipython3",
      "version": "3.6.6",
      "file_extension": ".py",
      "codemirror_mode": {
        "version": 3,
        "name": "ipython"
      }
    }
  },
  "nbformat": 4,
  "nbformat_minor": 2
}
