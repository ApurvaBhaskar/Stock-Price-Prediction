{
  "nbformat": 4,
  "nbformat_minor": 0,
  "metadata": {
    "colab": {
      "name": "Stock Price prediction (APPLE STOCKS).ipynb",
      "provenance": [],
      "collapsed_sections": []
    },
    "kernelspec": {
      "name": "python3",
      "display_name": "Python 3"
    }
  },
  "cells": [
    {
      "cell_type": "code",
      "metadata": {
        "id": "mLznr5TGAxvS",
        "colab_type": "code",
        "colab": {}
      },
      "source": [
        "#Installing the dependencies\n",
        "import pandas as pd\n",
        "import numpy as np\n",
        "from sklearn.linear_model import LinearRegression #ML dependency that contains lots of ML libraries.\n",
        "from sklearn.svm import SVR #SupportVectorRegressor\n",
        "import matplotlib.pyplot as plt"
      ],
      "execution_count": 0,
      "outputs": []
    },
    {
      "cell_type": "code",
      "metadata": {
        "id": "4ySvbQC7CIwZ",
        "colab_type": "code",
        "outputId": "02eb69c7-4a34-40f4-de17-c5f7b49fb47a",
        "colab": {
          "resources": {
            "http://localhost:8080/nbextensions/google.colab/files.js": {
              "data": "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",
              "ok": true,
              "headers": [
                [
                  "content-type",
                  "application/javascript"
                ]
              ],
              "status": 200,
              "status_text": ""
            }
          },
          "base_uri": "https://localhost:8080/",
          "height": 312
        }
      },
      "source": [
        "#Load the data\n",
        "from google.colab import files # Use to load data on Google Colab\n",
        "uploaded = files.upload() # Use to load data on Google Colab\n",
        "df = pd.read_csv('AAPL1.csv')\n",
        "df.head(7)"
      ],
      "execution_count": 115,
      "outputs": [
        {
          "output_type": "display_data",
          "data": {
            "text/html": [
              "\n",
              "     <input type=\"file\" id=\"files-859f454c-ce0a-4e29-9f2c-7285832f0921\" name=\"files[]\" multiple disabled />\n",
              "     <output id=\"result-859f454c-ce0a-4e29-9f2c-7285832f0921\">\n",
              "      Upload widget is only available when the cell has been executed in the\n",
              "      current browser session. Please rerun this cell to enable.\n",
              "      </output>\n",
              "      <script src=\"/nbextensions/google.colab/files.js\"></script> "
            ],
            "text/plain": [
              "<IPython.core.display.HTML object>"
            ]
          },
          "metadata": {
            "tags": []
          }
        },
        {
          "output_type": "stream",
          "text": [
            "Saving AAPL1.csv to AAPL1 (2).csv\n"
          ],
          "name": "stdout"
        },
        {
          "output_type": "execute_result",
          "data": {
            "text/html": [
              "<div>\n",
              "<style scoped>\n",
              "    .dataframe tbody tr th:only-of-type {\n",
              "        vertical-align: middle;\n",
              "    }\n",
              "\n",
              "    .dataframe tbody tr th {\n",
              "        vertical-align: top;\n",
              "    }\n",
              "\n",
              "    .dataframe thead th {\n",
              "        text-align: right;\n",
              "    }\n",
              "</style>\n",
              "<table border=\"1\" class=\"dataframe\">\n",
              "  <thead>\n",
              "    <tr style=\"text-align: right;\">\n",
              "      <th></th>\n",
              "      <th>Date</th>\n",
              "      <th>Open</th>\n",
              "      <th>High</th>\n",
              "      <th>Low</th>\n",
              "      <th>Close</th>\n",
              "      <th>Adj Close</th>\n",
              "      <th>Volume</th>\n",
              "    </tr>\n",
              "  </thead>\n",
              "  <tbody>\n",
              "    <tr>\n",
              "      <th>0</th>\n",
              "      <td>2020-03-10</td>\n",
              "      <td>277.140015</td>\n",
              "      <td>286.440002</td>\n",
              "      <td>269.369995</td>\n",
              "      <td>285.339996</td>\n",
              "      <td>285.339996</td>\n",
              "      <td>71322500</td>\n",
              "    </tr>\n",
              "    <tr>\n",
              "      <th>1</th>\n",
              "      <td>2020-03-11</td>\n",
              "      <td>277.390015</td>\n",
              "      <td>281.220001</td>\n",
              "      <td>271.859985</td>\n",
              "      <td>275.429993</td>\n",
              "      <td>275.429993</td>\n",
              "      <td>63899700</td>\n",
              "    </tr>\n",
              "    <tr>\n",
              "      <th>2</th>\n",
              "      <td>2020-03-12</td>\n",
              "      <td>255.940002</td>\n",
              "      <td>270.000000</td>\n",
              "      <td>248.000000</td>\n",
              "      <td>248.229996</td>\n",
              "      <td>248.229996</td>\n",
              "      <td>104618500</td>\n",
              "    </tr>\n",
              "    <tr>\n",
              "      <th>3</th>\n",
              "      <td>2020-03-13</td>\n",
              "      <td>264.890015</td>\n",
              "      <td>279.920013</td>\n",
              "      <td>252.949997</td>\n",
              "      <td>277.970001</td>\n",
              "      <td>277.970001</td>\n",
              "      <td>92683000</td>\n",
              "    </tr>\n",
              "    <tr>\n",
              "      <th>4</th>\n",
              "      <td>2020-03-16</td>\n",
              "      <td>241.949997</td>\n",
              "      <td>259.079987</td>\n",
              "      <td>240.000000</td>\n",
              "      <td>242.210007</td>\n",
              "      <td>242.210007</td>\n",
              "      <td>80605900</td>\n",
              "    </tr>\n",
              "    <tr>\n",
              "      <th>5</th>\n",
              "      <td>2020-03-17</td>\n",
              "      <td>247.509995</td>\n",
              "      <td>257.609985</td>\n",
              "      <td>238.399994</td>\n",
              "      <td>252.860001</td>\n",
              "      <td>252.860001</td>\n",
              "      <td>81014000</td>\n",
              "    </tr>\n",
              "    <tr>\n",
              "      <th>6</th>\n",
              "      <td>2020-03-18</td>\n",
              "      <td>239.770004</td>\n",
              "      <td>250.000000</td>\n",
              "      <td>237.119995</td>\n",
              "      <td>246.669998</td>\n",
              "      <td>246.669998</td>\n",
              "      <td>75058400</td>\n",
              "    </tr>\n",
              "  </tbody>\n",
              "</table>\n",
              "</div>"
            ],
            "text/plain": [
              "         Date        Open        High  ...       Close   Adj Close     Volume\n",
              "0  2020-03-10  277.140015  286.440002  ...  285.339996  285.339996   71322500\n",
              "1  2020-03-11  277.390015  281.220001  ...  275.429993  275.429993   63899700\n",
              "2  2020-03-12  255.940002  270.000000  ...  248.229996  248.229996  104618500\n",
              "3  2020-03-13  264.890015  279.920013  ...  277.970001  277.970001   92683000\n",
              "4  2020-03-16  241.949997  259.079987  ...  242.210007  242.210007   80605900\n",
              "5  2020-03-17  247.509995  257.609985  ...  252.860001  252.860001   81014000\n",
              "6  2020-03-18  239.770004  250.000000  ...  246.669998  246.669998   75058400\n",
              "\n",
              "[7 rows x 7 columns]"
            ]
          },
          "metadata": {
            "tags": []
          },
          "execution_count": 115
        }
      ]
    },
    {
      "cell_type": "code",
      "metadata": {
        "id": "0m3btKB_IGoF",
        "colab_type": "code",
        "colab": {}
      },
      "source": [
        "#Create the lists X and Y data sets\n",
        "dates = []\n",
        "prices = []"
      ],
      "execution_count": 0,
      "outputs": []
    },
    {
      "cell_type": "code",
      "metadata": {
        "id": "_bDAv7o_IGyY",
        "colab_type": "code",
        "outputId": "4fe65ff0-8346-4490-8e58-d8ba622c28b4",
        "colab": {
          "base_uri": "https://localhost:8080/",
          "height": 34
        }
      },
      "source": [
        "#Get the number of rows and columns in the data set\n",
        "df.shape"
      ],
      "execution_count": 117,
      "outputs": [
        {
          "output_type": "execute_result",
          "data": {
            "text/plain": [
              "(23, 7)"
            ]
          },
          "metadata": {
            "tags": []
          },
          "execution_count": 117
        }
      ]
    },
    {
      "cell_type": "code",
      "metadata": {
        "id": "6W2d2fdbIYqr",
        "colab_type": "code",
        "outputId": "59221bb5-ffc0-4614-b240-aad9e6651a7a",
        "colab": {
          "base_uri": "https://localhost:8080/",
          "height": 77
        }
      },
      "source": [
        "#Displaying Last row\n",
        "df.tail(1)"
      ],
      "execution_count": 118,
      "outputs": [
        {
          "output_type": "execute_result",
          "data": {
            "text/html": [
              "<div>\n",
              "<style scoped>\n",
              "    .dataframe tbody tr th:only-of-type {\n",
              "        vertical-align: middle;\n",
              "    }\n",
              "\n",
              "    .dataframe tbody tr th {\n",
              "        vertical-align: top;\n",
              "    }\n",
              "\n",
              "    .dataframe thead th {\n",
              "        text-align: right;\n",
              "    }\n",
              "</style>\n",
              "<table border=\"1\" class=\"dataframe\">\n",
              "  <thead>\n",
              "    <tr style=\"text-align: right;\">\n",
              "      <th></th>\n",
              "      <th>Date</th>\n",
              "      <th>Open</th>\n",
              "      <th>High</th>\n",
              "      <th>Low</th>\n",
              "      <th>Close</th>\n",
              "      <th>Adj Close</th>\n",
              "      <th>Volume</th>\n",
              "    </tr>\n",
              "  </thead>\n",
              "  <tbody>\n",
              "    <tr>\n",
              "      <th>22</th>\n",
              "      <td>2020-04-09</td>\n",
              "      <td>268.700012</td>\n",
              "      <td>270.070007</td>\n",
              "      <td>264.700012</td>\n",
              "      <td>267.98999</td>\n",
              "      <td>267.98999</td>\n",
              "      <td>40529100</td>\n",
              "    </tr>\n",
              "  </tbody>\n",
              "</table>\n",
              "</div>"
            ],
            "text/plain": [
              "          Date        Open        High  ...      Close  Adj Close    Volume\n",
              "22  2020-04-09  268.700012  270.070007  ...  267.98999  267.98999  40529100\n",
              "\n",
              "[1 rows x 7 columns]"
            ]
          },
          "metadata": {
            "tags": []
          },
          "execution_count": 118
        }
      ]
    },
    {
      "cell_type": "code",
      "metadata": {
        "id": "kseBOLD1Rwgt",
        "colab_type": "code",
        "outputId": "2a61d4f5-0130-40cf-adb8-9aff371601cf",
        "colab": {
          "base_uri": "https://localhost:8080/",
          "height": 698
        }
      },
      "source": [
        "df = df.head(len(df)-1)\n",
        "df"
      ],
      "execution_count": 119,
      "outputs": [
        {
          "output_type": "execute_result",
          "data": {
            "text/html": [
              "<div>\n",
              "<style scoped>\n",
              "    .dataframe tbody tr th:only-of-type {\n",
              "        vertical-align: middle;\n",
              "    }\n",
              "\n",
              "    .dataframe tbody tr th {\n",
              "        vertical-align: top;\n",
              "    }\n",
              "\n",
              "    .dataframe thead th {\n",
              "        text-align: right;\n",
              "    }\n",
              "</style>\n",
              "<table border=\"1\" class=\"dataframe\">\n",
              "  <thead>\n",
              "    <tr style=\"text-align: right;\">\n",
              "      <th></th>\n",
              "      <th>Date</th>\n",
              "      <th>Open</th>\n",
              "      <th>High</th>\n",
              "      <th>Low</th>\n",
              "      <th>Close</th>\n",
              "      <th>Adj Close</th>\n",
              "      <th>Volume</th>\n",
              "    </tr>\n",
              "  </thead>\n",
              "  <tbody>\n",
              "    <tr>\n",
              "      <th>0</th>\n",
              "      <td>2020-03-10</td>\n",
              "      <td>277.140015</td>\n",
              "      <td>286.440002</td>\n",
              "      <td>269.369995</td>\n",
              "      <td>285.339996</td>\n",
              "      <td>285.339996</td>\n",
              "      <td>71322500</td>\n",
              "    </tr>\n",
              "    <tr>\n",
              "      <th>1</th>\n",
              "      <td>2020-03-11</td>\n",
              "      <td>277.390015</td>\n",
              "      <td>281.220001</td>\n",
              "      <td>271.859985</td>\n",
              "      <td>275.429993</td>\n",
              "      <td>275.429993</td>\n",
              "      <td>63899700</td>\n",
              "    </tr>\n",
              "    <tr>\n",
              "      <th>2</th>\n",
              "      <td>2020-03-12</td>\n",
              "      <td>255.940002</td>\n",
              "      <td>270.000000</td>\n",
              "      <td>248.000000</td>\n",
              "      <td>248.229996</td>\n",
              "      <td>248.229996</td>\n",
              "      <td>104618500</td>\n",
              "    </tr>\n",
              "    <tr>\n",
              "      <th>3</th>\n",
              "      <td>2020-03-13</td>\n",
              "      <td>264.890015</td>\n",
              "      <td>279.920013</td>\n",
              "      <td>252.949997</td>\n",
              "      <td>277.970001</td>\n",
              "      <td>277.970001</td>\n",
              "      <td>92683000</td>\n",
              "    </tr>\n",
              "    <tr>\n",
              "      <th>4</th>\n",
              "      <td>2020-03-16</td>\n",
              "      <td>241.949997</td>\n",
              "      <td>259.079987</td>\n",
              "      <td>240.000000</td>\n",
              "      <td>242.210007</td>\n",
              "      <td>242.210007</td>\n",
              "      <td>80605900</td>\n",
              "    </tr>\n",
              "    <tr>\n",
              "      <th>5</th>\n",
              "      <td>2020-03-17</td>\n",
              "      <td>247.509995</td>\n",
              "      <td>257.609985</td>\n",
              "      <td>238.399994</td>\n",
              "      <td>252.860001</td>\n",
              "      <td>252.860001</td>\n",
              "      <td>81014000</td>\n",
              "    </tr>\n",
              "    <tr>\n",
              "      <th>6</th>\n",
              "      <td>2020-03-18</td>\n",
              "      <td>239.770004</td>\n",
              "      <td>250.000000</td>\n",
              "      <td>237.119995</td>\n",
              "      <td>246.669998</td>\n",
              "      <td>246.669998</td>\n",
              "      <td>75058400</td>\n",
              "    </tr>\n",
              "    <tr>\n",
              "      <th>7</th>\n",
              "      <td>2020-03-19</td>\n",
              "      <td>247.389999</td>\n",
              "      <td>252.839996</td>\n",
              "      <td>242.610001</td>\n",
              "      <td>244.779999</td>\n",
              "      <td>244.779999</td>\n",
              "      <td>67964300</td>\n",
              "    </tr>\n",
              "    <tr>\n",
              "      <th>8</th>\n",
              "      <td>2020-03-20</td>\n",
              "      <td>247.179993</td>\n",
              "      <td>251.830002</td>\n",
              "      <td>228.000000</td>\n",
              "      <td>229.240005</td>\n",
              "      <td>229.240005</td>\n",
              "      <td>100423300</td>\n",
              "    </tr>\n",
              "    <tr>\n",
              "      <th>9</th>\n",
              "      <td>2020-03-23</td>\n",
              "      <td>228.080002</td>\n",
              "      <td>228.500000</td>\n",
              "      <td>212.610001</td>\n",
              "      <td>224.369995</td>\n",
              "      <td>224.369995</td>\n",
              "      <td>84188200</td>\n",
              "    </tr>\n",
              "    <tr>\n",
              "      <th>10</th>\n",
              "      <td>2020-03-24</td>\n",
              "      <td>236.360001</td>\n",
              "      <td>247.690002</td>\n",
              "      <td>234.300003</td>\n",
              "      <td>246.880005</td>\n",
              "      <td>246.880005</td>\n",
              "      <td>71882800</td>\n",
              "    </tr>\n",
              "    <tr>\n",
              "      <th>11</th>\n",
              "      <td>2020-03-25</td>\n",
              "      <td>250.750000</td>\n",
              "      <td>258.250000</td>\n",
              "      <td>244.300003</td>\n",
              "      <td>245.520004</td>\n",
              "      <td>245.520004</td>\n",
              "      <td>75900500</td>\n",
              "    </tr>\n",
              "    <tr>\n",
              "      <th>12</th>\n",
              "      <td>2020-03-26</td>\n",
              "      <td>246.520004</td>\n",
              "      <td>258.679993</td>\n",
              "      <td>246.360001</td>\n",
              "      <td>258.440002</td>\n",
              "      <td>258.440002</td>\n",
              "      <td>63021800</td>\n",
              "    </tr>\n",
              "    <tr>\n",
              "      <th>13</th>\n",
              "      <td>2020-03-27</td>\n",
              "      <td>252.750000</td>\n",
              "      <td>255.869995</td>\n",
              "      <td>247.050003</td>\n",
              "      <td>247.740005</td>\n",
              "      <td>247.740005</td>\n",
              "      <td>51054200</td>\n",
              "    </tr>\n",
              "    <tr>\n",
              "      <th>14</th>\n",
              "      <td>2020-03-30</td>\n",
              "      <td>250.740005</td>\n",
              "      <td>255.520004</td>\n",
              "      <td>249.399994</td>\n",
              "      <td>254.809998</td>\n",
              "      <td>254.809998</td>\n",
              "      <td>41994100</td>\n",
              "    </tr>\n",
              "    <tr>\n",
              "      <th>15</th>\n",
              "      <td>2020-03-31</td>\n",
              "      <td>255.600006</td>\n",
              "      <td>262.489990</td>\n",
              "      <td>252.000000</td>\n",
              "      <td>254.289993</td>\n",
              "      <td>254.289993</td>\n",
              "      <td>49250500</td>\n",
              "    </tr>\n",
              "    <tr>\n",
              "      <th>16</th>\n",
              "      <td>2020-04-01</td>\n",
              "      <td>246.500000</td>\n",
              "      <td>248.720001</td>\n",
              "      <td>239.130005</td>\n",
              "      <td>240.910004</td>\n",
              "      <td>240.910004</td>\n",
              "      <td>44054600</td>\n",
              "    </tr>\n",
              "    <tr>\n",
              "      <th>17</th>\n",
              "      <td>2020-04-02</td>\n",
              "      <td>240.339996</td>\n",
              "      <td>245.149994</td>\n",
              "      <td>236.899994</td>\n",
              "      <td>244.929993</td>\n",
              "      <td>244.929993</td>\n",
              "      <td>41483500</td>\n",
              "    </tr>\n",
              "    <tr>\n",
              "      <th>18</th>\n",
              "      <td>2020-04-03</td>\n",
              "      <td>242.800003</td>\n",
              "      <td>245.699997</td>\n",
              "      <td>238.970001</td>\n",
              "      <td>241.410004</td>\n",
              "      <td>241.410004</td>\n",
              "      <td>32470000</td>\n",
              "    </tr>\n",
              "    <tr>\n",
              "      <th>19</th>\n",
              "      <td>2020-04-06</td>\n",
              "      <td>250.899994</td>\n",
              "      <td>263.109985</td>\n",
              "      <td>249.380005</td>\n",
              "      <td>262.470001</td>\n",
              "      <td>262.470001</td>\n",
              "      <td>50455100</td>\n",
              "    </tr>\n",
              "    <tr>\n",
              "      <th>20</th>\n",
              "      <td>2020-04-07</td>\n",
              "      <td>270.799988</td>\n",
              "      <td>271.700012</td>\n",
              "      <td>259.000000</td>\n",
              "      <td>259.429993</td>\n",
              "      <td>259.429993</td>\n",
              "      <td>50721800</td>\n",
              "    </tr>\n",
              "    <tr>\n",
              "      <th>21</th>\n",
              "      <td>2020-04-08</td>\n",
              "      <td>262.739990</td>\n",
              "      <td>267.369995</td>\n",
              "      <td>261.230011</td>\n",
              "      <td>266.070007</td>\n",
              "      <td>266.070007</td>\n",
              "      <td>42223800</td>\n",
              "    </tr>\n",
              "  </tbody>\n",
              "</table>\n",
              "</div>"
            ],
            "text/plain": [
              "          Date        Open        High  ...       Close   Adj Close     Volume\n",
              "0   2020-03-10  277.140015  286.440002  ...  285.339996  285.339996   71322500\n",
              "1   2020-03-11  277.390015  281.220001  ...  275.429993  275.429993   63899700\n",
              "2   2020-03-12  255.940002  270.000000  ...  248.229996  248.229996  104618500\n",
              "3   2020-03-13  264.890015  279.920013  ...  277.970001  277.970001   92683000\n",
              "4   2020-03-16  241.949997  259.079987  ...  242.210007  242.210007   80605900\n",
              "5   2020-03-17  247.509995  257.609985  ...  252.860001  252.860001   81014000\n",
              "6   2020-03-18  239.770004  250.000000  ...  246.669998  246.669998   75058400\n",
              "7   2020-03-19  247.389999  252.839996  ...  244.779999  244.779999   67964300\n",
              "8   2020-03-20  247.179993  251.830002  ...  229.240005  229.240005  100423300\n",
              "9   2020-03-23  228.080002  228.500000  ...  224.369995  224.369995   84188200\n",
              "10  2020-03-24  236.360001  247.690002  ...  246.880005  246.880005   71882800\n",
              "11  2020-03-25  250.750000  258.250000  ...  245.520004  245.520004   75900500\n",
              "12  2020-03-26  246.520004  258.679993  ...  258.440002  258.440002   63021800\n",
              "13  2020-03-27  252.750000  255.869995  ...  247.740005  247.740005   51054200\n",
              "14  2020-03-30  250.740005  255.520004  ...  254.809998  254.809998   41994100\n",
              "15  2020-03-31  255.600006  262.489990  ...  254.289993  254.289993   49250500\n",
              "16  2020-04-01  246.500000  248.720001  ...  240.910004  240.910004   44054600\n",
              "17  2020-04-02  240.339996  245.149994  ...  244.929993  244.929993   41483500\n",
              "18  2020-04-03  242.800003  245.699997  ...  241.410004  241.410004   32470000\n",
              "19  2020-04-06  250.899994  263.109985  ...  262.470001  262.470001   50455100\n",
              "20  2020-04-07  270.799988  271.700012  ...  259.429993  259.429993   50721800\n",
              "21  2020-04-08  262.739990  267.369995  ...  266.070007  266.070007   42223800\n",
              "\n",
              "[22 rows x 7 columns]"
            ]
          },
          "metadata": {
            "tags": []
          },
          "execution_count": 119
        }
      ]
    },
    {
      "cell_type": "code",
      "metadata": {
        "id": "2LC1OKFMJaDW",
        "colab_type": "code",
        "outputId": "603fa28e-e858-4924-90cd-1cccce8f8212",
        "colab": {
          "base_uri": "https://localhost:8080/",
          "height": 34
        }
      },
      "source": [
        "#To check whether the last row is omitted or not\n",
        "df.shape"
      ],
      "execution_count": 120,
      "outputs": [
        {
          "output_type": "execute_result",
          "data": {
            "text/plain": [
              "(22, 7)"
            ]
          },
          "metadata": {
            "tags": []
          },
          "execution_count": 120
        }
      ]
    },
    {
      "cell_type": "code",
      "metadata": {
        "id": "M_slClAAV7mG",
        "colab_type": "code",
        "colab": {}
      },
      "source": [
        "#Get all of the rows from the Date Column\n",
        "df_dates = df.loc[:, 'Date']\n",
        "#Get all of the rows from the Open Column\n",
        "df_open = df.loc[:, 'Open']"
      ],
      "execution_count": 0,
      "outputs": []
    },
    {
      "cell_type": "code",
      "metadata": {
        "id": "1dKNGqGxLYco",
        "colab_type": "code",
        "colab": {}
      },
      "source": [
        "#Create the independent data set X\n",
        "for date in df_dates:\n",
        "  dates.append( [int(date.split('-')[2])])\n",
        "  \n",
        "#Create the dependent data se 'y'\n",
        "for open_price in df_open:\n",
        "  prices.append(float(open_price))"
      ],
      "execution_count": 0,
      "outputs": []
    },
    {
      "cell_type": "code",
      "metadata": {
        "id": "AmOFsntQgEOX",
        "colab_type": "code",
        "outputId": "25bb0d65-7244-48b3-8311-2239d5277dfc",
        "colab": {
          "base_uri": "https://localhost:8080/",
          "height": 403
        }
      },
      "source": [
        "#Printing all the dates in the updated date list\n",
        "print(df_dates)"
      ],
      "execution_count": 123,
      "outputs": [
        {
          "output_type": "stream",
          "text": [
            "0     2020-03-10\n",
            "1     2020-03-11\n",
            "2     2020-03-12\n",
            "3     2020-03-13\n",
            "4     2020-03-16\n",
            "5     2020-03-17\n",
            "6     2020-03-18\n",
            "7     2020-03-19\n",
            "8     2020-03-20\n",
            "9     2020-03-23\n",
            "10    2020-03-24\n",
            "11    2020-03-25\n",
            "12    2020-03-26\n",
            "13    2020-03-27\n",
            "14    2020-03-30\n",
            "15    2020-03-31\n",
            "16    2020-04-01\n",
            "17    2020-04-02\n",
            "18    2020-04-03\n",
            "19    2020-04-06\n",
            "20    2020-04-07\n",
            "21    2020-04-08\n",
            "Name: Date, dtype: object\n"
          ],
          "name": "stdout"
        }
      ]
    },
    {
      "cell_type": "code",
      "metadata": {
        "id": "IjWiGgX9QjrP",
        "colab_type": "code",
        "colab": {}
      },
      "source": [
        "#Create the independent data set X\n",
        "for date in df_dates:\n",
        "  dates.append( [int(date.split('-')[2])])\n",
        "  \n",
        "#Create the dependent data se 'y'\n",
        "for open_price in df_open:\n",
        "  prices.append(float(open_price))"
      ],
      "execution_count": 0,
      "outputs": []
    },
    {
      "cell_type": "code",
      "metadata": {
        "id": "Z3LOju0OehMi",
        "colab_type": "code",
        "outputId": "45b8f0b2-a29d-4b52-fa30-b7f6e1fa2e1d",
        "colab": {
          "base_uri": "https://localhost:8080/",
          "height": 54
        }
      },
      "source": [
        "print(dates)"
      ],
      "execution_count": 125,
      "outputs": [
        {
          "output_type": "stream",
          "text": [
            "[[10], [11], [12], [13], [16], [17], [18], [19], [20], [23], [24], [25], [26], [27], [30], [31], [1], [2], [3], [6], [7], [8], [10], [11], [12], [13], [16], [17], [18], [19], [20], [23], [24], [25], [26], [27], [30], [31], [1], [2], [3], [6], [7], [8]]\n"
          ],
          "name": "stdout"
        }
      ]
    },
    {
      "cell_type": "code",
      "metadata": {
        "id": "VbD-xBh09_lY",
        "colab_type": "code",
        "colab": {}
      },
      "source": [
        "def predict_prices(dates, prices, x):\n",
        "  \n",
        "  #Creaing the 3 SVR models\n",
        "  svr_lin = SVR(kernel='linear', C= 1e3)\n",
        "  svr_poly= SVR(kernel='poly', C=1e3, degree=2)\n",
        "  svr_rbf = SVR(kernel='rbf', C=1e3, gamma=0.1)\n",
        "  \n",
        "  #Training the SVR models \n",
        "  svr_lin.fit(dates,prices)\n",
        "  svr_poly.fit(dates,prices)\n",
        "  svr_rbf.fit(dates,prices)\n",
        "  \n",
        "  #Creating the Linear Regression model\n",
        "  lin_reg = LinearRegression()\n",
        "  #Training the Linear Regression model\n",
        "  lin_reg.fit(dates,prices)\n",
        "  \n",
        "  #Plot the models on a graph to see which has the best fit\n",
        "  plt.scatter(dates, prices, color='black', label='Data')\n",
        "  plt.plot(dates, svr_rbf.predict(dates), color='red', label='SVR RBF')\n",
        "  plt.plot(dates, svr_poly.predict(dates), color='blue', label='SVR Poly')\n",
        "  plt.plot(dates, svr_lin.predict(dates), color='green', label='SVR Linear')\n",
        "  plt.plot(dates, lin_reg.predict(dates), color='orange', label='Linear Reg')\n",
        "  plt.xlabel('Days')\n",
        "  plt.ylabel('Price')\n",
        "  plt.title('Regression')\n",
        "  plt.legend()\n",
        "  plt.show()\n",
        "  \n",
        "  return svr_rbf.predict(x)[0], svr_lin.predict(x)[0],svr_poly.predict(x)[0],lin_reg.predict(x)[0]"
      ],
      "execution_count": 0,
      "outputs": []
    },
    {
      "cell_type": "code",
      "metadata": {
        "id": "h08FmkV69_zA",
        "colab_type": "code",
        "outputId": "f941a044-7342-4fdc-e979-d9ed564125b6",
        "colab": {
          "base_uri": "https://localhost:8080/",
          "height": 312
        }
      },
      "source": [
        "#Predict the price of Apple on 09 April\n",
        "predicted_price = predict_prices(dates, prices, [[9]])\n",
        "print(predicted_price)"
      ],
      "execution_count": 127,
      "outputs": [
        {
          "output_type": "display_data",
          "data": {
            "image/png": "[encoded data removed]",
            "text/plain": [
              "<Figure size 432x288 with 1 Axes>"
            ]
          },
          "metadata": {
            "tags": [],
            "needs_background": "light"
          }
        },
        {
          "output_type": "stream",
          "text": [
            "(269.33979828559785, 247.7144841379676, 246.95917627940185, 253.80782867301866)\n"
          ],
          "name": "stdout"
        }
      ]
    }
  ]
}
